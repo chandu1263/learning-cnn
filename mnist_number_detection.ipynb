{
 "cells": [
  {
   "cell_type": "code",
   "execution_count": 1,
   "metadata": {},
   "outputs": [],
   "source": [
    "# MNIST Handwritten Digit Recognition in PyTorch\n",
    "# training a classifier on MNSIT can be regarded as \"hello world\" in image recognition"
   ]
  },
  {
   "cell_type": "code",
   "execution_count": 2,
   "metadata": {},
   "outputs": [],
   "source": [
    "# things we will use here are\n",
    "## pytorch, MNSIT dataset (I will share the versions in readme)\n"
   ]
  },
  {
   "cell_type": "code",
   "execution_count": 3,
   "metadata": {},
   "outputs": [],
   "source": [
    "import torch\n",
    "import torchvision\n",
    "import torchvision.transforms as transforms"
   ]
  },
  {
   "cell_type": "code",
   "execution_count": 4,
   "metadata": {},
   "outputs": [],
   "source": [
    "# torchvision.transforms\n",
    "## these are common image transformations [eg: ToTensor(), Normalize()]\n",
    "# torchvision.transforms.compose \n",
    "## composes several transforms together\n",
    "### check https://pytorch.org/docs/stable/torchvision/transforms.html for more info."
   ]
  },
  {
   "cell_type": "code",
   "execution_count": 5,
   "metadata": {},
   "outputs": [],
   "source": [
    "transform = torchvision.transforms.Compose([torchvision.transforms.ToTensor(),\n",
    "        torchvision.transforms.Normalize(\n",
    "        (0.1307,), (0.3081,))])"
   ]
  },
  {
   "cell_type": "code",
   "execution_count": 6,
   "metadata": {},
   "outputs": [
    {
     "data": {
      "text/plain": [
       "Compose(\n",
       "    ToTensor()\n",
       "    Normalize(mean=(0.1307,), std=(0.3081,))\n",
       ")"
      ]
     },
     "execution_count": 6,
     "metadata": {},
     "output_type": "execute_result"
    }
   ],
   "source": [
    "transform"
   ]
  },
  {
   "cell_type": "code",
   "execution_count": 7,
   "metadata": {},
   "outputs": [],
   "source": [
    "# why are we even using transform?\n",
    "## what is that normalize? \n",
    "## are the values same everytime?\n",
    "## how to determine them?\n",
    "\n",
    "## Normalize does the following for each channel: image = (image - mean) / std\n",
    "## the above values standard values, but in real life scenarios, we need to normalize them according to out convenience\n",
    "\n",
    "## other important transform is cropping"
   ]
  },
  {
   "cell_type": "code",
   "execution_count": 8,
   "metadata": {},
   "outputs": [],
   "source": [
    "# Dataloading\n",
    "## This is the toughest part in real life problems\n",
    "## DataLoader(dataset, batch_size=1, shuffle=False, sampler=None,\n",
    "#            batch_sampler=None, num_workers=0, collate_fn=None,\n",
    "#            pin_memory=False, drop_last=False, timeout=0,\n",
    "#            worker_init_fn=None, *, prefetch_factor=2,\n",
    "#            persistent_workers=False)\n",
    "\n",
    "# dataset torch.utils.data.Dataset\n",
    "# here we are using MNIST dataset"
   ]
  },
  {
   "cell_type": "code",
   "execution_count": 9,
   "metadata": {},
   "outputs": [],
   "source": [
    "train_loader = torch.utils.data.DataLoader(torchvision.datasets.MNIST('./files/', train = True, download = True, transform = transform), batch_size = 64, shuffle = True)\n",
    "\n",
    "# here is used transform = transform, you can use other name in the above step and use the same here [eg: transform = autobot]"
   ]
  },
  {
   "cell_type": "code",
   "execution_count": 10,
   "metadata": {},
   "outputs": [],
   "source": [
    "test_loader = torch.utils.data.DataLoader(torchvision.datasets.MNIST('./files/', train = False, download = False, transform = transform), batch_size = 100, shuffle = True)"
   ]
  },
  {
   "cell_type": "code",
   "execution_count": 11,
   "metadata": {},
   "outputs": [
    {
     "data": {
      "text/plain": [
       "<torch.utils.data.dataloader.DataLoader at 0x7eff09844c18>"
      ]
     },
     "execution_count": 11,
     "metadata": {},
     "output_type": "execute_result"
    }
   ],
   "source": [
    "train_loader"
   ]
  },
  {
   "cell_type": "code",
   "execution_count": 12,
   "metadata": {},
   "outputs": [
    {
     "data": {
      "text/plain": [
       "938"
      ]
     },
     "execution_count": 12,
     "metadata": {},
     "output_type": "execute_result"
    }
   ],
   "source": [
    "len(train_loader)"
   ]
  },
  {
   "cell_type": "code",
   "execution_count": 13,
   "metadata": {},
   "outputs": [
    {
     "data": {
      "text/plain": [
       "<torch.utils.data.dataloader.DataLoader at 0x7eff09837e48>"
      ]
     },
     "execution_count": 13,
     "metadata": {},
     "output_type": "execute_result"
    }
   ],
   "source": [
    "test_loader"
   ]
  },
  {
   "cell_type": "code",
   "execution_count": 14,
   "metadata": {},
   "outputs": [
    {
     "data": {
      "text/plain": [
       "100"
      ]
     },
     "execution_count": 14,
     "metadata": {},
     "output_type": "execute_result"
    }
   ],
   "source": [
    "len(test_loader)"
   ]
  },
  {
   "cell_type": "code",
   "execution_count": 15,
   "metadata": {},
   "outputs": [],
   "source": [
    "#let's test this properly now\n",
    "## who trusts this torch thing right? Let's test on our own if whether this data is loaded or not"
   ]
  },
  {
   "cell_type": "code",
   "execution_count": 16,
   "metadata": {},
   "outputs": [],
   "source": [
    "examples = enumerate(test_loader) # enumerate is just for adding index (atleast that's what I use it for) https://www.geeksforgeeks.org/enumerate-in-python/\n",
    "batch_idx, (example_data, example_targets) = next(examples)"
   ]
  },
  {
   "cell_type": "code",
   "execution_count": 17,
   "metadata": {},
   "outputs": [
    {
     "data": {
      "text/plain": [
       "torch.Size([100, 1, 28, 28])"
      ]
     },
     "execution_count": 17,
     "metadata": {},
     "output_type": "execute_result"
    }
   ],
   "source": [
    "example_data.shape"
   ]
  },
  {
   "cell_type": "code",
   "execution_count": 18,
   "metadata": {},
   "outputs": [
    {
     "data": {
      "text/plain": [
       "<Figure size 640x480 with 6 Axes>"
      ]
     },
     "execution_count": 18,
     "metadata": {},
     "output_type": "execute_result"
    }
   ],
   "source": [
    "import matplotlib.pyplot as plt\n",
    "\n",
    "fig = plt.figure()\n",
    "for i in range(6):\n",
    "    plt.subplot(2,3,i+1) # just making a grid thing (2*3)\n",
    "    plt.tight_layout() \n",
    "    plt.imshow(example_data[i][0], cmap='gray', interpolation='none')\n",
    "    plt.title(\"Ground Truth: {}\".format(example_targets[i])) # example_targets are the actual numbers 1,2,3,4,5,6,7,8,9,0\n",
    "    plt.xticks([])\n",
    "    plt.yticks([])\n",
    "fig"
   ]
  },
  {
   "cell_type": "code",
   "execution_count": 19,
   "metadata": {},
   "outputs": [],
   "source": [
    "# dang! these are really loaded\n",
    "# but data pre-processing and loading won't be this easy. As you know, this is basic"
   ]
  },
  {
   "cell_type": "code",
   "execution_count": 20,
   "metadata": {},
   "outputs": [],
   "source": [
    "import torch.nn as nn\n",
    "import torch.nn.functional as F\n",
    "import torch.optim as optim"
   ]
  },
  {
   "cell_type": "code",
   "execution_count": 21,
   "metadata": {},
   "outputs": [],
   "source": [
    "#  We'll use two 2-D convolutional layers followed by two fully-connected (or linear) layers\n",
    "# As activations, we will chose ReLU and as a means of regularization we'll use two dropout layers"
   ]
  },
  {
   "cell_type": "code",
   "execution_count": 22,
   "metadata": {},
   "outputs": [],
   "source": [
    "class Net(nn.Module):\n",
    "    def __init__(self):\n",
    "        super(Net, self).__init__()\n",
    "        self.conv1 = nn.Conv2d(1, 10, kernel_size = 5) # convolution layer with 1 in-channel and 10 out-channels and kernel-matrix 5*5\n",
    "        self.conv2 = nn.Conv2d(10, 20, kernel_size = 5) # convolution layer with 10 in-channels and 20 out-channels and kernel-matriz 5*5\n",
    "        self.conv2_drop = nn.Dropout2d() # Randomly zero out entire channels [TO AVOID OVERFITTING]\n",
    "        # During training, randomly zeroes some of the elements of the input tensor with probability p using samples from a Bernoulli distribution.\n",
    "        #Each channel will be zeroed out independently on every forward call.\n",
    "        self.fc1 = nn.Linear(320, 50) # 320 in-features and 50 out-features\n",
    "        self.fc2 = nn.Linear(50, 10) # 50 in-features and 10 out-features\n",
    "        \n",
    "    def forward(self, x):\n",
    "        x = F.relu(F.max_pool2d(self.conv1(x), 2)) # to reduce the number of parameters which is imperative to reducing computation [2 makes the parameters by half in each dimension]\n",
    "        x = F.relu(F.max_pool2d(self.conv2_drop(self.conv2(x)), 2)) # ReLU is activation function\n",
    "        x = x.view(-1, 320) # last 320 features\n",
    "        x = F.relu(self.fc1(x)) \n",
    "        x = F.dropout(x, training=self.training)\n",
    "        x = self.fc2(x)\n",
    "        return F.log_softmax(x)\n",
    "    \n",
    "        "
   ]
  },
  {
   "cell_type": "code",
   "execution_count": 23,
   "metadata": {},
   "outputs": [],
   "source": [
    "# yayyy! we created a neural network\n",
    "# forward is how you define your module is going to run"
   ]
  },
  {
   "cell_type": "code",
   "execution_count": 24,
   "metadata": {},
   "outputs": [],
   "source": [
    "network = Net() # creating an instance of that network\n",
    "optimizer = optim.SGD(network.parameters(), lr=0.01, momentum=0.5) # stochastic gradient descent"
   ]
  },
  {
   "cell_type": "code",
   "execution_count": null,
   "metadata": {},
   "outputs": [],
   "source": []
  },
  {
   "cell_type": "code",
   "execution_count": 25,
   "metadata": {},
   "outputs": [],
   "source": [
    "train_losses = []\n",
    "train_counter = []\n",
    "test_losses = []\n",
    "test_counter = [i*len(train_loader.dataset) for i in range(4)] # 4 is number of epochs\n",
    "log_interval = 10"
   ]
  },
  {
   "cell_type": "code",
   "execution_count": 26,
   "metadata": {},
   "outputs": [],
   "source": [
    "# training\n",
    "# First we need to manually set the gradients to zero using optimizer.zero_grad() since PyTorch by default accumulates gradients.\n",
    "# We then produce the output of our network (forward pass)\n",
    "# and compute a negative log-likelihodd loss between the output and the ground truth label."
   ]
  },
  {
   "cell_type": "code",
   "execution_count": 27,
   "metadata": {},
   "outputs": [],
   "source": [
    "def train(epoch):\n",
    "  network.train()\n",
    "  for batch_idx, (data, target) in enumerate(train_loader):\n",
    "    optimizer.zero_grad()\n",
    "    output = network(data)\n",
    "    loss = F.nll_loss(output, target) # nll loss (negative likelihood explained)\n",
    "    loss.backward() \n",
    "    # The backward() call we now collect a new set of gradients which we propagate back \n",
    "    # into each of the network's parameters using optimizer.step()\n",
    "    optimizer.step() \n",
    "    if batch_idx % log_interval == 0:\n",
    "      print('Train Epoch: {} [{}/{} ({:.0f}%)]\\tLoss: {:.6f}'.format(\n",
    "        epoch, batch_idx * len(data), len(train_loader.dataset),\n",
    "        100. * batch_idx / len(train_loader), loss.item()))\n",
    "      train_losses.append(loss.item())\n",
    "      train_counter.append(\n",
    "        (batch_idx*64) + ((epoch-1)*len(train_loader.dataset)))\n",
    "      torch.save(network.state_dict(), './results/mnist_model.pth')\n",
    "      torch.save(optimizer.state_dict(), './results/mnist_optimizer.pth')"
   ]
  },
  {
   "cell_type": "code",
   "execution_count": 28,
   "metadata": {},
   "outputs": [],
   "source": [
    "# testing \n",
    "## Neural network modules as well as optimizers have the ability to save and load their internal state using .state_dict(). \n",
    "## With this we can continue training from previously saved state dicts if needed - we'd just need to call .load_state_dict(state_dict). "
   ]
  },
  {
   "cell_type": "code",
   "execution_count": 29,
   "metadata": {},
   "outputs": [],
   "source": [
    "def test():\n",
    "  network.eval()\n",
    "  test_loss = 0\n",
    "  correct = 0\n",
    "  with torch.no_grad():\n",
    "    for data, target in test_loader:\n",
    "      output = network(data)\n",
    "      test_loss += F.nll_loss(output, target, size_average=False).item()\n",
    "      pred = output.data.max(1, keepdim=True)[1]\n",
    "      correct += pred.eq(target.data.view_as(pred)).sum()\n",
    "  test_loss /= len(test_loader.dataset)\n",
    "  test_losses.append(test_loss)\n",
    "  print('\\nTest set: Avg. loss: {:.4f}, Accuracy: {}/{} ({:.0f}%)\\n'.format(\n",
    "    test_loss, correct, len(test_loader.dataset),\n",
    "    100. * correct / len(test_loader.dataset)))"
   ]
  },
  {
   "cell_type": "code",
   "execution_count": 30,
   "metadata": {},
   "outputs": [],
   "source": [
    "# Using the context manager no_grad() we can avoid storing the computations done producing the output of our network in the computation graph"
   ]
  },
  {
   "cell_type": "code",
   "execution_count": 31,
   "metadata": {},
   "outputs": [
    {
     "name": "stderr",
     "output_type": "stream",
     "text": [
      "/usr/local/lib/python3.6/dist-packages/ipykernel_launcher.py:19: UserWarning: Implicit dimension choice for log_softmax has been deprecated. Change the call to include dim=X as an argument.\n"
     ]
    },
    {
     "name": "stdout",
     "output_type": "stream",
     "text": [
      "Train Epoch: 1 [0/60000 (0%)]\tLoss: 2.304425\n",
      "Train Epoch: 1 [640/60000 (1%)]\tLoss: 2.302078\n",
      "Train Epoch: 1 [1280/60000 (2%)]\tLoss: 2.301968\n",
      "Train Epoch: 1 [1920/60000 (3%)]\tLoss: 2.273733\n",
      "Train Epoch: 1 [2560/60000 (4%)]\tLoss: 2.277233\n",
      "Train Epoch: 1 [3200/60000 (5%)]\tLoss: 2.226111\n",
      "Train Epoch: 1 [3840/60000 (6%)]\tLoss: 2.248716\n",
      "Train Epoch: 1 [4480/60000 (7%)]\tLoss: 2.265962\n",
      "Train Epoch: 1 [5120/60000 (9%)]\tLoss: 2.190775\n",
      "Train Epoch: 1 [5760/60000 (10%)]\tLoss: 2.140408\n",
      "Train Epoch: 1 [6400/60000 (11%)]\tLoss: 2.133085\n",
      "Train Epoch: 1 [7040/60000 (12%)]\tLoss: 2.126921\n",
      "Train Epoch: 1 [7680/60000 (13%)]\tLoss: 1.966429\n",
      "Train Epoch: 1 [8320/60000 (14%)]\tLoss: 1.748029\n",
      "Train Epoch: 1 [8960/60000 (15%)]\tLoss: 1.677428\n",
      "Train Epoch: 1 [9600/60000 (16%)]\tLoss: 1.623252\n",
      "Train Epoch: 1 [10240/60000 (17%)]\tLoss: 1.367629\n",
      "Train Epoch: 1 [10880/60000 (18%)]\tLoss: 1.368058\n",
      "Train Epoch: 1 [11520/60000 (19%)]\tLoss: 1.379836\n",
      "Train Epoch: 1 [12160/60000 (20%)]\tLoss: 1.459766\n",
      "Train Epoch: 1 [12800/60000 (21%)]\tLoss: 1.092806\n",
      "Train Epoch: 1 [13440/60000 (22%)]\tLoss: 1.065209\n",
      "Train Epoch: 1 [14080/60000 (23%)]\tLoss: 0.885558\n",
      "Train Epoch: 1 [14720/60000 (25%)]\tLoss: 1.277907\n",
      "Train Epoch: 1 [15360/60000 (26%)]\tLoss: 1.020008\n",
      "Train Epoch: 1 [16000/60000 (27%)]\tLoss: 0.843541\n",
      "Train Epoch: 1 [16640/60000 (28%)]\tLoss: 0.990313\n",
      "Train Epoch: 1 [17280/60000 (29%)]\tLoss: 0.833999\n",
      "Train Epoch: 1 [17920/60000 (30%)]\tLoss: 1.237203\n",
      "Train Epoch: 1 [18560/60000 (31%)]\tLoss: 0.767977\n",
      "Train Epoch: 1 [19200/60000 (32%)]\tLoss: 0.758104\n",
      "Train Epoch: 1 [19840/60000 (33%)]\tLoss: 0.880594\n",
      "Train Epoch: 1 [20480/60000 (34%)]\tLoss: 0.780842\n",
      "Train Epoch: 1 [21120/60000 (35%)]\tLoss: 0.751088\n",
      "Train Epoch: 1 [21760/60000 (36%)]\tLoss: 0.799653\n",
      "Train Epoch: 1 [22400/60000 (37%)]\tLoss: 0.806643\n",
      "Train Epoch: 1 [23040/60000 (38%)]\tLoss: 0.887497\n",
      "Train Epoch: 1 [23680/60000 (39%)]\tLoss: 0.693196\n",
      "Train Epoch: 1 [24320/60000 (41%)]\tLoss: 0.750965\n",
      "Train Epoch: 1 [24960/60000 (42%)]\tLoss: 0.790152\n",
      "Train Epoch: 1 [25600/60000 (43%)]\tLoss: 0.750686\n",
      "Train Epoch: 1 [26240/60000 (44%)]\tLoss: 0.622436\n",
      "Train Epoch: 1 [26880/60000 (45%)]\tLoss: 0.931263\n",
      "Train Epoch: 1 [27520/60000 (46%)]\tLoss: 0.670624\n",
      "Train Epoch: 1 [28160/60000 (47%)]\tLoss: 0.635368\n",
      "Train Epoch: 1 [28800/60000 (48%)]\tLoss: 0.665680\n",
      "Train Epoch: 1 [29440/60000 (49%)]\tLoss: 0.757043\n",
      "Train Epoch: 1 [30080/60000 (50%)]\tLoss: 0.843761\n",
      "Train Epoch: 1 [30720/60000 (51%)]\tLoss: 0.646170\n",
      "Train Epoch: 1 [31360/60000 (52%)]\tLoss: 0.433900\n",
      "Train Epoch: 1 [32000/60000 (53%)]\tLoss: 0.580788\n",
      "Train Epoch: 1 [32640/60000 (54%)]\tLoss: 0.556225\n",
      "Train Epoch: 1 [33280/60000 (55%)]\tLoss: 0.817954\n",
      "Train Epoch: 1 [33920/60000 (57%)]\tLoss: 0.643208\n",
      "Train Epoch: 1 [34560/60000 (58%)]\tLoss: 0.488027\n",
      "Train Epoch: 1 [35200/60000 (59%)]\tLoss: 0.544086\n",
      "Train Epoch: 1 [35840/60000 (60%)]\tLoss: 0.412491\n",
      "Train Epoch: 1 [36480/60000 (61%)]\tLoss: 0.596180\n",
      "Train Epoch: 1 [37120/60000 (62%)]\tLoss: 0.741271\n",
      "Train Epoch: 1 [37760/60000 (63%)]\tLoss: 0.785950\n",
      "Train Epoch: 1 [38400/60000 (64%)]\tLoss: 0.545539\n",
      "Train Epoch: 1 [39040/60000 (65%)]\tLoss: 0.610143\n",
      "Train Epoch: 1 [39680/60000 (66%)]\tLoss: 0.603339\n",
      "Train Epoch: 1 [40320/60000 (67%)]\tLoss: 0.556077\n",
      "Train Epoch: 1 [40960/60000 (68%)]\tLoss: 0.433339\n",
      "Train Epoch: 1 [41600/60000 (69%)]\tLoss: 0.564910\n",
      "Train Epoch: 1 [42240/60000 (70%)]\tLoss: 0.546595\n",
      "Train Epoch: 1 [42880/60000 (71%)]\tLoss: 0.460129\n",
      "Train Epoch: 1 [43520/60000 (72%)]\tLoss: 0.540908\n",
      "Train Epoch: 1 [44160/60000 (74%)]\tLoss: 0.512857\n",
      "Train Epoch: 1 [44800/60000 (75%)]\tLoss: 0.630782\n",
      "Train Epoch: 1 [45440/60000 (76%)]\tLoss: 0.565437\n",
      "Train Epoch: 1 [46080/60000 (77%)]\tLoss: 0.660509\n",
      "Train Epoch: 1 [46720/60000 (78%)]\tLoss: 0.408106\n",
      "Train Epoch: 1 [47360/60000 (79%)]\tLoss: 0.437423\n",
      "Train Epoch: 1 [48000/60000 (80%)]\tLoss: 0.550692\n",
      "Train Epoch: 1 [48640/60000 (81%)]\tLoss: 0.575677\n",
      "Train Epoch: 1 [49280/60000 (82%)]\tLoss: 0.671064\n",
      "Train Epoch: 1 [49920/60000 (83%)]\tLoss: 0.438547\n",
      "Train Epoch: 1 [50560/60000 (84%)]\tLoss: 0.594710\n",
      "Train Epoch: 1 [51200/60000 (85%)]\tLoss: 0.516588\n",
      "Train Epoch: 1 [51840/60000 (86%)]\tLoss: 0.433474\n",
      "Train Epoch: 1 [52480/60000 (87%)]\tLoss: 0.549036\n",
      "Train Epoch: 1 [53120/60000 (88%)]\tLoss: 0.397709\n",
      "Train Epoch: 1 [53760/60000 (90%)]\tLoss: 0.532018\n",
      "Train Epoch: 1 [54400/60000 (91%)]\tLoss: 0.477911\n",
      "Train Epoch: 1 [55040/60000 (92%)]\tLoss: 0.449920\n",
      "Train Epoch: 1 [55680/60000 (93%)]\tLoss: 0.276992\n",
      "Train Epoch: 1 [56320/60000 (94%)]\tLoss: 0.676795\n",
      "Train Epoch: 1 [56960/60000 (95%)]\tLoss: 0.529561\n",
      "Train Epoch: 1 [57600/60000 (96%)]\tLoss: 0.595367\n",
      "Train Epoch: 1 [58240/60000 (97%)]\tLoss: 0.488233\n",
      "Train Epoch: 1 [58880/60000 (98%)]\tLoss: 0.434837\n",
      "Train Epoch: 1 [59520/60000 (99%)]\tLoss: 0.592594\n"
     ]
    },
    {
     "name": "stderr",
     "output_type": "stream",
     "text": [
      "/usr/local/lib/python3.6/dist-packages/torch/nn/_reduction.py:44: UserWarning: size_average and reduce args will be deprecated, please use reduction='sum' instead.\n",
      "  warnings.warn(warning.format(ret))\n"
     ]
    },
    {
     "name": "stdout",
     "output_type": "stream",
     "text": [
      "\n",
      "Test set: Avg. loss: 0.2016, Accuracy: 9436/10000 (94%)\n",
      "\n",
      "Train Epoch: 2 [0/60000 (0%)]\tLoss: 0.400916\n",
      "Train Epoch: 2 [640/60000 (1%)]\tLoss: 0.453189\n",
      "Train Epoch: 2 [1280/60000 (2%)]\tLoss: 0.248654\n",
      "Train Epoch: 2 [1920/60000 (3%)]\tLoss: 0.409699\n",
      "Train Epoch: 2 [2560/60000 (4%)]\tLoss: 0.473577\n",
      "Train Epoch: 2 [3200/60000 (5%)]\tLoss: 0.429770\n",
      "Train Epoch: 2 [3840/60000 (6%)]\tLoss: 0.274144\n",
      "Train Epoch: 2 [4480/60000 (7%)]\tLoss: 0.536625\n",
      "Train Epoch: 2 [5120/60000 (9%)]\tLoss: 0.435851\n",
      "Train Epoch: 2 [5760/60000 (10%)]\tLoss: 0.348478\n",
      "Train Epoch: 2 [6400/60000 (11%)]\tLoss: 0.334948\n",
      "Train Epoch: 2 [7040/60000 (12%)]\tLoss: 0.528722\n",
      "Train Epoch: 2 [7680/60000 (13%)]\tLoss: 0.302746\n",
      "Train Epoch: 2 [8320/60000 (14%)]\tLoss: 0.347114\n",
      "Train Epoch: 2 [8960/60000 (15%)]\tLoss: 0.424060\n",
      "Train Epoch: 2 [9600/60000 (16%)]\tLoss: 0.447388\n",
      "Train Epoch: 2 [10240/60000 (17%)]\tLoss: 0.407330\n",
      "Train Epoch: 2 [10880/60000 (18%)]\tLoss: 0.517509\n",
      "Train Epoch: 2 [11520/60000 (19%)]\tLoss: 0.296273\n",
      "Train Epoch: 2 [12160/60000 (20%)]\tLoss: 0.410621\n",
      "Train Epoch: 2 [12800/60000 (21%)]\tLoss: 0.586339\n",
      "Train Epoch: 2 [13440/60000 (22%)]\tLoss: 0.465349\n",
      "Train Epoch: 2 [14080/60000 (23%)]\tLoss: 0.656319\n",
      "Train Epoch: 2 [14720/60000 (25%)]\tLoss: 0.500050\n",
      "Train Epoch: 2 [15360/60000 (26%)]\tLoss: 0.443260\n",
      "Train Epoch: 2 [16000/60000 (27%)]\tLoss: 0.594929\n",
      "Train Epoch: 2 [16640/60000 (28%)]\tLoss: 0.654957\n",
      "Train Epoch: 2 [17280/60000 (29%)]\tLoss: 0.140116\n",
      "Train Epoch: 2 [17920/60000 (30%)]\tLoss: 0.365620\n",
      "Train Epoch: 2 [18560/60000 (31%)]\tLoss: 0.323690\n",
      "Train Epoch: 2 [19200/60000 (32%)]\tLoss: 0.244569\n",
      "Train Epoch: 2 [19840/60000 (33%)]\tLoss: 0.477238\n",
      "Train Epoch: 2 [20480/60000 (34%)]\tLoss: 0.494505\n",
      "Train Epoch: 2 [21120/60000 (35%)]\tLoss: 0.397135\n",
      "Train Epoch: 2 [21760/60000 (36%)]\tLoss: 0.388584\n",
      "Train Epoch: 2 [22400/60000 (37%)]\tLoss: 0.633980\n",
      "Train Epoch: 2 [23040/60000 (38%)]\tLoss: 0.444259\n",
      "Train Epoch: 2 [23680/60000 (39%)]\tLoss: 0.279468\n",
      "Train Epoch: 2 [24320/60000 (41%)]\tLoss: 0.493911\n",
      "Train Epoch: 2 [24960/60000 (42%)]\tLoss: 0.513619\n",
      "Train Epoch: 2 [25600/60000 (43%)]\tLoss: 0.411257\n",
      "Train Epoch: 2 [26240/60000 (44%)]\tLoss: 0.425958\n",
      "Train Epoch: 2 [26880/60000 (45%)]\tLoss: 0.337609\n",
      "Train Epoch: 2 [27520/60000 (46%)]\tLoss: 0.526992\n",
      "Train Epoch: 2 [28160/60000 (47%)]\tLoss: 0.585074\n",
      "Train Epoch: 2 [28800/60000 (48%)]\tLoss: 0.298675\n",
      "Train Epoch: 2 [29440/60000 (49%)]\tLoss: 0.356269\n",
      "Train Epoch: 2 [30080/60000 (50%)]\tLoss: 0.350318\n",
      "Train Epoch: 2 [30720/60000 (51%)]\tLoss: 0.286467\n",
      "Train Epoch: 2 [31360/60000 (52%)]\tLoss: 0.368984\n",
      "Train Epoch: 2 [32000/60000 (53%)]\tLoss: 0.307379\n",
      "Train Epoch: 2 [32640/60000 (54%)]\tLoss: 0.245277\n",
      "Train Epoch: 2 [33280/60000 (55%)]\tLoss: 0.398994\n",
      "Train Epoch: 2 [33920/60000 (57%)]\tLoss: 0.235387\n",
      "Train Epoch: 2 [34560/60000 (58%)]\tLoss: 0.173464\n",
      "Train Epoch: 2 [35200/60000 (59%)]\tLoss: 0.326211\n",
      "Train Epoch: 2 [35840/60000 (60%)]\tLoss: 0.414620\n",
      "Train Epoch: 2 [36480/60000 (61%)]\tLoss: 0.454483\n",
      "Train Epoch: 2 [37120/60000 (62%)]\tLoss: 0.477047\n",
      "Train Epoch: 2 [37760/60000 (63%)]\tLoss: 0.371636\n",
      "Train Epoch: 2 [38400/60000 (64%)]\tLoss: 0.344653\n",
      "Train Epoch: 2 [39040/60000 (65%)]\tLoss: 0.269082\n",
      "Train Epoch: 2 [39680/60000 (66%)]\tLoss: 0.282758\n",
      "Train Epoch: 2 [40320/60000 (67%)]\tLoss: 0.341576\n",
      "Train Epoch: 2 [40960/60000 (68%)]\tLoss: 0.276660\n",
      "Train Epoch: 2 [41600/60000 (69%)]\tLoss: 0.300926\n",
      "Train Epoch: 2 [42240/60000 (70%)]\tLoss: 0.508487\n",
      "Train Epoch: 2 [42880/60000 (71%)]\tLoss: 0.355745\n",
      "Train Epoch: 2 [43520/60000 (72%)]\tLoss: 0.402750\n",
      "Train Epoch: 2 [44160/60000 (74%)]\tLoss: 0.572735\n",
      "Train Epoch: 2 [44800/60000 (75%)]\tLoss: 0.305848\n",
      "Train Epoch: 2 [45440/60000 (76%)]\tLoss: 0.344240\n",
      "Train Epoch: 2 [46080/60000 (77%)]\tLoss: 0.288137\n",
      "Train Epoch: 2 [46720/60000 (78%)]\tLoss: 0.213658\n",
      "Train Epoch: 2 [47360/60000 (79%)]\tLoss: 0.352759\n",
      "Train Epoch: 2 [48000/60000 (80%)]\tLoss: 0.247260\n",
      "Train Epoch: 2 [48640/60000 (81%)]\tLoss: 0.290939\n",
      "Train Epoch: 2 [49280/60000 (82%)]\tLoss: 0.202786\n",
      "Train Epoch: 2 [49920/60000 (83%)]\tLoss: 0.285099\n",
      "Train Epoch: 2 [50560/60000 (84%)]\tLoss: 0.399399\n",
      "Train Epoch: 2 [51200/60000 (85%)]\tLoss: 0.599597\n",
      "Train Epoch: 2 [51840/60000 (86%)]\tLoss: 0.304467\n",
      "Train Epoch: 2 [52480/60000 (87%)]\tLoss: 0.190265\n",
      "Train Epoch: 2 [53120/60000 (88%)]\tLoss: 0.461570\n",
      "Train Epoch: 2 [53760/60000 (90%)]\tLoss: 0.380789\n",
      "Train Epoch: 2 [54400/60000 (91%)]\tLoss: 0.312737\n",
      "Train Epoch: 2 [55040/60000 (92%)]\tLoss: 0.253961\n",
      "Train Epoch: 2 [55680/60000 (93%)]\tLoss: 0.287968\n",
      "Train Epoch: 2 [56320/60000 (94%)]\tLoss: 0.297475\n",
      "Train Epoch: 2 [56960/60000 (95%)]\tLoss: 0.484046\n",
      "Train Epoch: 2 [57600/60000 (96%)]\tLoss: 0.438673\n",
      "Train Epoch: 2 [58240/60000 (97%)]\tLoss: 0.409073\n",
      "Train Epoch: 2 [58880/60000 (98%)]\tLoss: 0.505170\n",
      "Train Epoch: 2 [59520/60000 (99%)]\tLoss: 0.244479\n",
      "\n",
      "Test set: Avg. loss: 0.1221, Accuracy: 9624/10000 (96%)\n",
      "\n",
      "Train Epoch: 3 [0/60000 (0%)]\tLoss: 0.195655\n",
      "Train Epoch: 3 [640/60000 (1%)]\tLoss: 0.414337\n",
      "Train Epoch: 3 [1280/60000 (2%)]\tLoss: 0.206096\n",
      "Train Epoch: 3 [1920/60000 (3%)]\tLoss: 0.433795\n",
      "Train Epoch: 3 [2560/60000 (4%)]\tLoss: 0.183911\n",
      "Train Epoch: 3 [3200/60000 (5%)]\tLoss: 0.274242\n",
      "Train Epoch: 3 [3840/60000 (6%)]\tLoss: 0.258748\n",
      "Train Epoch: 3 [4480/60000 (7%)]\tLoss: 0.201630\n",
      "Train Epoch: 3 [5120/60000 (9%)]\tLoss: 0.189421\n",
      "Train Epoch: 3 [5760/60000 (10%)]\tLoss: 0.286078\n",
      "Train Epoch: 3 [6400/60000 (11%)]\tLoss: 0.373772\n",
      "Train Epoch: 3 [7040/60000 (12%)]\tLoss: 0.264476\n",
      "Train Epoch: 3 [7680/60000 (13%)]\tLoss: 0.355183\n",
      "Train Epoch: 3 [8320/60000 (14%)]\tLoss: 0.433263\n",
      "Train Epoch: 3 [8960/60000 (15%)]\tLoss: 0.266438\n",
      "Train Epoch: 3 [9600/60000 (16%)]\tLoss: 0.418668\n",
      "Train Epoch: 3 [10240/60000 (17%)]\tLoss: 0.596587\n",
      "Train Epoch: 3 [10880/60000 (18%)]\tLoss: 0.576604\n",
      "Train Epoch: 3 [11520/60000 (19%)]\tLoss: 0.316587\n",
      "Train Epoch: 3 [12160/60000 (20%)]\tLoss: 0.365040\n",
      "Train Epoch: 3 [12800/60000 (21%)]\tLoss: 0.123606\n",
      "Train Epoch: 3 [13440/60000 (22%)]\tLoss: 0.617639\n",
      "Train Epoch: 3 [14080/60000 (23%)]\tLoss: 0.570461\n",
      "Train Epoch: 3 [14720/60000 (25%)]\tLoss: 0.552961\n",
      "Train Epoch: 3 [15360/60000 (26%)]\tLoss: 0.435871\n",
      "Train Epoch: 3 [16000/60000 (27%)]\tLoss: 0.258735\n",
      "Train Epoch: 3 [16640/60000 (28%)]\tLoss: 0.276580\n",
      "Train Epoch: 3 [17280/60000 (29%)]\tLoss: 0.433780\n",
      "Train Epoch: 3 [17920/60000 (30%)]\tLoss: 0.476700\n",
      "Train Epoch: 3 [18560/60000 (31%)]\tLoss: 0.532627\n",
      "Train Epoch: 3 [19200/60000 (32%)]\tLoss: 0.170742\n",
      "Train Epoch: 3 [19840/60000 (33%)]\tLoss: 0.166381\n",
      "Train Epoch: 3 [20480/60000 (34%)]\tLoss: 0.195100\n",
      "Train Epoch: 3 [21120/60000 (35%)]\tLoss: 0.277878\n",
      "Train Epoch: 3 [21760/60000 (36%)]\tLoss: 0.376203\n",
      "Train Epoch: 3 [22400/60000 (37%)]\tLoss: 0.383856\n",
      "Train Epoch: 3 [23040/60000 (38%)]\tLoss: 0.233329\n",
      "Train Epoch: 3 [23680/60000 (39%)]\tLoss: 0.309583\n",
      "Train Epoch: 3 [24320/60000 (41%)]\tLoss: 0.272511\n",
      "Train Epoch: 3 [24960/60000 (42%)]\tLoss: 0.316144\n",
      "Train Epoch: 3 [25600/60000 (43%)]\tLoss: 0.547351\n",
      "Train Epoch: 3 [26240/60000 (44%)]\tLoss: 0.198711\n",
      "Train Epoch: 3 [26880/60000 (45%)]\tLoss: 0.382153\n",
      "Train Epoch: 3 [27520/60000 (46%)]\tLoss: 0.294309\n",
      "Train Epoch: 3 [28160/60000 (47%)]\tLoss: 0.259615\n",
      "Train Epoch: 3 [28800/60000 (48%)]\tLoss: 0.544563\n",
      "Train Epoch: 3 [29440/60000 (49%)]\tLoss: 0.308323\n",
      "Train Epoch: 3 [30080/60000 (50%)]\tLoss: 0.269327\n",
      "Train Epoch: 3 [30720/60000 (51%)]\tLoss: 0.274819\n",
      "Train Epoch: 3 [31360/60000 (52%)]\tLoss: 0.134934\n",
      "Train Epoch: 3 [32000/60000 (53%)]\tLoss: 0.520666\n",
      "Train Epoch: 3 [32640/60000 (54%)]\tLoss: 0.429562\n",
      "Train Epoch: 3 [33280/60000 (55%)]\tLoss: 0.229882\n",
      "Train Epoch: 3 [33920/60000 (57%)]\tLoss: 0.235670\n",
      "Train Epoch: 3 [34560/60000 (58%)]\tLoss: 0.457846\n",
      "Train Epoch: 3 [35200/60000 (59%)]\tLoss: 0.403193\n",
      "Train Epoch: 3 [35840/60000 (60%)]\tLoss: 0.279609\n",
      "Train Epoch: 3 [36480/60000 (61%)]\tLoss: 0.404130\n",
      "Train Epoch: 3 [37120/60000 (62%)]\tLoss: 0.471910\n",
      "Train Epoch: 3 [37760/60000 (63%)]\tLoss: 0.322613\n",
      "Train Epoch: 3 [38400/60000 (64%)]\tLoss: 0.427687\n",
      "Train Epoch: 3 [39040/60000 (65%)]\tLoss: 0.385992\n",
      "Train Epoch: 3 [39680/60000 (66%)]\tLoss: 0.450941\n",
      "Train Epoch: 3 [40320/60000 (67%)]\tLoss: 0.478368\n",
      "Train Epoch: 3 [40960/60000 (68%)]\tLoss: 0.305968\n",
      "Train Epoch: 3 [41600/60000 (69%)]\tLoss: 0.340463\n",
      "Train Epoch: 3 [42240/60000 (70%)]\tLoss: 0.190785\n",
      "Train Epoch: 3 [42880/60000 (71%)]\tLoss: 0.397150\n",
      "Train Epoch: 3 [43520/60000 (72%)]\tLoss: 0.158878\n",
      "Train Epoch: 3 [44160/60000 (74%)]\tLoss: 0.443080\n",
      "Train Epoch: 3 [44800/60000 (75%)]\tLoss: 0.459940\n",
      "Train Epoch: 3 [45440/60000 (76%)]\tLoss: 0.365031\n",
      "Train Epoch: 3 [46080/60000 (77%)]\tLoss: 0.246826\n",
      "Train Epoch: 3 [46720/60000 (78%)]\tLoss: 0.262125\n",
      "Train Epoch: 3 [47360/60000 (79%)]\tLoss: 0.260509\n",
      "Train Epoch: 3 [48000/60000 (80%)]\tLoss: 0.159964\n",
      "Train Epoch: 3 [48640/60000 (81%)]\tLoss: 0.211044\n",
      "Train Epoch: 3 [49280/60000 (82%)]\tLoss: 0.419116\n",
      "Train Epoch: 3 [49920/60000 (83%)]\tLoss: 0.302912\n",
      "Train Epoch: 3 [50560/60000 (84%)]\tLoss: 0.204577\n",
      "Train Epoch: 3 [51200/60000 (85%)]\tLoss: 0.270413\n",
      "Train Epoch: 3 [51840/60000 (86%)]\tLoss: 0.406795\n",
      "Train Epoch: 3 [52480/60000 (87%)]\tLoss: 0.160318\n",
      "Train Epoch: 3 [53120/60000 (88%)]\tLoss: 0.157445\n",
      "Train Epoch: 3 [53760/60000 (90%)]\tLoss: 0.145598\n",
      "Train Epoch: 3 [54400/60000 (91%)]\tLoss: 0.229022\n",
      "Train Epoch: 3 [55040/60000 (92%)]\tLoss: 0.337644\n",
      "Train Epoch: 3 [55680/60000 (93%)]\tLoss: 0.164054\n",
      "Train Epoch: 3 [56320/60000 (94%)]\tLoss: 0.385500\n",
      "Train Epoch: 3 [56960/60000 (95%)]\tLoss: 0.312228\n",
      "Train Epoch: 3 [57600/60000 (96%)]\tLoss: 0.192315\n",
      "Train Epoch: 3 [58240/60000 (97%)]\tLoss: 0.438536\n",
      "Train Epoch: 3 [58880/60000 (98%)]\tLoss: 0.252604\n",
      "Train Epoch: 3 [59520/60000 (99%)]\tLoss: 0.204218\n",
      "\n",
      "Test set: Avg. loss: 0.0973, Accuracy: 9684/10000 (97%)\n",
      "\n",
      "Train Epoch: 4 [0/60000 (0%)]\tLoss: 0.171427\n",
      "Train Epoch: 4 [640/60000 (1%)]\tLoss: 0.223562\n",
      "Train Epoch: 4 [1280/60000 (2%)]\tLoss: 0.404149\n",
      "Train Epoch: 4 [1920/60000 (3%)]\tLoss: 0.339347\n",
      "Train Epoch: 4 [2560/60000 (4%)]\tLoss: 0.343094\n",
      "Train Epoch: 4 [3200/60000 (5%)]\tLoss: 0.266122\n",
      "Train Epoch: 4 [3840/60000 (6%)]\tLoss: 0.195461\n",
      "Train Epoch: 4 [4480/60000 (7%)]\tLoss: 0.204668\n",
      "Train Epoch: 4 [5120/60000 (9%)]\tLoss: 0.132380\n",
      "Train Epoch: 4 [5760/60000 (10%)]\tLoss: 0.453371\n",
      "Train Epoch: 4 [6400/60000 (11%)]\tLoss: 0.163001\n",
      "Train Epoch: 4 [7040/60000 (12%)]\tLoss: 0.107487\n",
      "Train Epoch: 4 [7680/60000 (13%)]\tLoss: 0.213400\n",
      "Train Epoch: 4 [8320/60000 (14%)]\tLoss: 0.189508\n",
      "Train Epoch: 4 [8960/60000 (15%)]\tLoss: 0.187679\n",
      "Train Epoch: 4 [9600/60000 (16%)]\tLoss: 0.414632\n",
      "Train Epoch: 4 [10240/60000 (17%)]\tLoss: 0.187811\n",
      "Train Epoch: 4 [10880/60000 (18%)]\tLoss: 0.163595\n",
      "Train Epoch: 4 [11520/60000 (19%)]\tLoss: 0.352234\n",
      "Train Epoch: 4 [12160/60000 (20%)]\tLoss: 0.189875\n",
      "Train Epoch: 4 [12800/60000 (21%)]\tLoss: 0.238375\n",
      "Train Epoch: 4 [13440/60000 (22%)]\tLoss: 0.275086\n",
      "Train Epoch: 4 [14080/60000 (23%)]\tLoss: 0.308332\n",
      "Train Epoch: 4 [14720/60000 (25%)]\tLoss: 0.255618\n",
      "Train Epoch: 4 [15360/60000 (26%)]\tLoss: 0.208143\n",
      "Train Epoch: 4 [16000/60000 (27%)]\tLoss: 0.081491\n",
      "Train Epoch: 4 [16640/60000 (28%)]\tLoss: 0.339311\n",
      "Train Epoch: 4 [17280/60000 (29%)]\tLoss: 0.334710\n",
      "Train Epoch: 4 [17920/60000 (30%)]\tLoss: 0.312050\n",
      "Train Epoch: 4 [18560/60000 (31%)]\tLoss: 0.187514\n",
      "Train Epoch: 4 [19200/60000 (32%)]\tLoss: 0.180925\n",
      "Train Epoch: 4 [19840/60000 (33%)]\tLoss: 0.355915\n",
      "Train Epoch: 4 [20480/60000 (34%)]\tLoss: 0.160841\n",
      "Train Epoch: 4 [21120/60000 (35%)]\tLoss: 0.314379\n",
      "Train Epoch: 4 [21760/60000 (36%)]\tLoss: 0.289706\n",
      "Train Epoch: 4 [22400/60000 (37%)]\tLoss: 0.070206\n",
      "Train Epoch: 4 [23040/60000 (38%)]\tLoss: 0.200219\n",
      "Train Epoch: 4 [23680/60000 (39%)]\tLoss: 0.236883\n",
      "Train Epoch: 4 [24320/60000 (41%)]\tLoss: 0.410513\n",
      "Train Epoch: 4 [24960/60000 (42%)]\tLoss: 0.473311\n",
      "Train Epoch: 4 [25600/60000 (43%)]\tLoss: 0.109943\n",
      "Train Epoch: 4 [26240/60000 (44%)]\tLoss: 0.317987\n",
      "Train Epoch: 4 [26880/60000 (45%)]\tLoss: 0.185655\n",
      "Train Epoch: 4 [27520/60000 (46%)]\tLoss: 0.271964\n",
      "Train Epoch: 4 [28160/60000 (47%)]\tLoss: 0.166871\n",
      "Train Epoch: 4 [28800/60000 (48%)]\tLoss: 0.262000\n",
      "Train Epoch: 4 [29440/60000 (49%)]\tLoss: 0.187970\n",
      "Train Epoch: 4 [30080/60000 (50%)]\tLoss: 0.360676\n",
      "Train Epoch: 4 [30720/60000 (51%)]\tLoss: 0.361843\n",
      "Train Epoch: 4 [31360/60000 (52%)]\tLoss: 0.170771\n",
      "Train Epoch: 4 [32000/60000 (53%)]\tLoss: 0.172733\n",
      "Train Epoch: 4 [32640/60000 (54%)]\tLoss: 0.219352\n",
      "Train Epoch: 4 [33280/60000 (55%)]\tLoss: 0.219196\n",
      "Train Epoch: 4 [33920/60000 (57%)]\tLoss: 0.254958\n",
      "Train Epoch: 4 [34560/60000 (58%)]\tLoss: 0.174126\n",
      "Train Epoch: 4 [35200/60000 (59%)]\tLoss: 0.186551\n",
      "Train Epoch: 4 [35840/60000 (60%)]\tLoss: 0.141802\n",
      "Train Epoch: 4 [36480/60000 (61%)]\tLoss: 0.137255\n",
      "Train Epoch: 4 [37120/60000 (62%)]\tLoss: 0.213833\n",
      "Train Epoch: 4 [37760/60000 (63%)]\tLoss: 0.153310\n",
      "Train Epoch: 4 [38400/60000 (64%)]\tLoss: 0.167580\n",
      "Train Epoch: 4 [39040/60000 (65%)]\tLoss: 0.272775\n",
      "Train Epoch: 4 [39680/60000 (66%)]\tLoss: 0.635877\n",
      "Train Epoch: 4 [40320/60000 (67%)]\tLoss: 0.280086\n",
      "Train Epoch: 4 [40960/60000 (68%)]\tLoss: 0.399857\n",
      "Train Epoch: 4 [41600/60000 (69%)]\tLoss: 0.453481\n",
      "Train Epoch: 4 [42240/60000 (70%)]\tLoss: 0.148487\n",
      "Train Epoch: 4 [42880/60000 (71%)]\tLoss: 0.225133\n",
      "Train Epoch: 4 [43520/60000 (72%)]\tLoss: 0.130842\n",
      "Train Epoch: 4 [44160/60000 (74%)]\tLoss: 0.400413\n",
      "Train Epoch: 4 [44800/60000 (75%)]\tLoss: 0.127728\n",
      "Train Epoch: 4 [45440/60000 (76%)]\tLoss: 0.244408\n",
      "Train Epoch: 4 [46080/60000 (77%)]\tLoss: 0.179138\n",
      "Train Epoch: 4 [46720/60000 (78%)]\tLoss: 0.291887\n",
      "Train Epoch: 4 [47360/60000 (79%)]\tLoss: 0.238995\n",
      "Train Epoch: 4 [48000/60000 (80%)]\tLoss: 0.152478\n",
      "Train Epoch: 4 [48640/60000 (81%)]\tLoss: 0.219983\n",
      "Train Epoch: 4 [49280/60000 (82%)]\tLoss: 0.417821\n",
      "Train Epoch: 4 [49920/60000 (83%)]\tLoss: 0.185557\n",
      "Train Epoch: 4 [50560/60000 (84%)]\tLoss: 0.260475\n",
      "Train Epoch: 4 [51200/60000 (85%)]\tLoss: 0.247414\n",
      "Train Epoch: 4 [51840/60000 (86%)]\tLoss: 0.094441\n",
      "Train Epoch: 4 [52480/60000 (87%)]\tLoss: 0.180231\n",
      "Train Epoch: 4 [53120/60000 (88%)]\tLoss: 0.332913\n",
      "Train Epoch: 4 [53760/60000 (90%)]\tLoss: 0.176528\n",
      "Train Epoch: 4 [54400/60000 (91%)]\tLoss: 0.229498\n",
      "Train Epoch: 4 [55040/60000 (92%)]\tLoss: 0.357595\n",
      "Train Epoch: 4 [55680/60000 (93%)]\tLoss: 0.218113\n",
      "Train Epoch: 4 [56320/60000 (94%)]\tLoss: 0.224651\n",
      "Train Epoch: 4 [56960/60000 (95%)]\tLoss: 0.195797\n",
      "Train Epoch: 4 [57600/60000 (96%)]\tLoss: 0.247834\n",
      "Train Epoch: 4 [58240/60000 (97%)]\tLoss: 0.289576\n",
      "Train Epoch: 4 [58880/60000 (98%)]\tLoss: 0.416813\n",
      "Train Epoch: 4 [59520/60000 (99%)]\tLoss: 0.144503\n",
      "\n",
      "Test set: Avg. loss: 0.0778, Accuracy: 9767/10000 (98%)\n",
      "\n"
     ]
    }
   ],
   "source": [
    "for epoch in range(1, 5): # number of epochs is 4\n",
    "    train(epoch)\n",
    "    test()"
   ]
  },
  {
   "cell_type": "code",
   "execution_count": 32,
   "metadata": {},
   "outputs": [
    {
     "name": "stdout",
     "output_type": "stream",
     "text": [
      "4 4\n"
     ]
    }
   ],
   "source": [
    "# test()\n",
    "print(len(test_counter), len(test_losses))"
   ]
  },
  {
   "cell_type": "code",
   "execution_count": 33,
   "metadata": {},
   "outputs": [
    {
     "name": "stdout",
     "output_type": "stream",
     "text": [
      "376\n",
      "376\n"
     ]
    }
   ],
   "source": [
    "print(len(train_counter))\n",
    "print(len(train_losses))"
   ]
  },
  {
   "cell_type": "code",
   "execution_count": 35,
   "metadata": {},
   "outputs": [],
   "source": [
    "# 98% accuracy\n",
    "# not very often\n",
    "# let's plot how our data got trained"
   ]
  },
  {
   "cell_type": "code",
   "execution_count": 34,
   "metadata": {},
   "outputs": [
    {
     "data": {
      "image/png": "[encoded data removed]",
      "text/plain": [
       "<Figure size 432x288 with 1 Axes>"
      ]
     },
     "execution_count": 34,
     "metadata": {},
     "output_type": "execute_result"
    },
    {
     "data": {
      "image/png": "[encoded data removed]",
      "text/plain": [
       "<Figure size 432x288 with 1 Axes>"
      ]
     },
     "metadata": {
      "needs_background": "light"
     },
     "output_type": "display_data"
    }
   ],
   "source": [
    "fig = plt.figure()\n",
    "plt.plot(train_counter, train_losses, color='blue')\n",
    "plt.scatter(test_counter, test_losses, color='red')\n",
    "plt.legend(['Train Loss', 'Test Loss'], loc='upper right')\n",
    "plt.xlabel('number of training examples seen')\n",
    "plt.ylabel('negative log likelihood loss')\n",
    "fig"
   ]
  }
 ],
 "metadata": {
  "kernelspec": {
   "display_name": "Python 3",
   "language": "python",
   "name": "python3"
  },
  "language_info": {
   "codemirror_mode": {
    "name": "ipython",
    "version": 3
   },
   "file_extension": ".py",
   "mimetype": "text/x-python",
   "name": "python",
   "nbconvert_exporter": "python",
   "pygments_lexer": "ipython3",
   "version": "3.6.9"
  }
 },
 "nbformat": 4,
 "nbformat_minor": 4
}
